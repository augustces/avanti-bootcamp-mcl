{
 "cells": [
  {
   "cell_type": "markdown",
   "metadata": {},
   "source": [
    "# Questão 9"
   ]
  },
  {
   "cell_type": "code",
   "execution_count": 1,
   "metadata": {},
   "outputs": [],
   "source": [
    "import pandas as pd"
   ]
  },
  {
   "cell_type": "code",
   "execution_count": 2,
   "metadata": {},
   "outputs": [
    {
     "name": "stdout",
     "output_type": "stream",
     "text": [
      "0    Augusto\n",
      "1    Gustavo\n",
      "2      Eliza\n",
      "3       Joao\n",
      "Name: Nome, dtype: object\n",
      "    Nome  Idade\n",
      "2  Eliza     35\n",
      "3   Joao     40\n"
     ]
    }
   ],
   "source": [
    "data = {'Nome': ['Augusto', 'Gustavo', 'Eliza', 'Joao'],\n",
    "        'Idade': [25, 30, 35, 40]\n",
    "    }\n",
    "\n",
    "df = pd.DataFrame(data)\n",
    "\n",
    "# selecão de colunas\n",
    "coluna_nome = df['Nome']  \n",
    "coluna_idade = df.loc[:, 'Idade']  \n",
    "\n",
    "print(coluna_nome)\n",
    "\n",
    "# Filtrando linhas com base na coluna idade\n",
    "filtro = df['Idade'] > 30\n",
    "linhas = df.loc[filtro]\n",
    "\n",
    "# Mostra as linhas da coluna idade em que os valores são maiorese que 30\n",
    "print(linhas)\n"
   ]
  }
 ],
 "metadata": {
  "kernelspec": {
   "display_name": "Python 3",
   "language": "python",
   "name": "python3"
  },
  "language_info": {
   "codemirror_mode": {
    "name": "ipython",
    "version": 3
   },
   "file_extension": ".py",
   "mimetype": "text/x-python",
   "name": "python",
   "nbconvert_exporter": "python",
   "pygments_lexer": "ipython3",
   "version": "3.11.3"
  }
 },
 "nbformat": 4,
 "nbformat_minor": 2
}
